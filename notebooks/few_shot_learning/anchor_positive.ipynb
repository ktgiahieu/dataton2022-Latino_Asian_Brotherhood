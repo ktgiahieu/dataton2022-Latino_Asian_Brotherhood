{
 "cells": [
  {
   "cell_type": "code",
   "execution_count": 1,
   "metadata": {},
   "outputs": [],
   "source": [
    "import numpy as np \n",
    "import pandas as pd \n",
    "import matplotlib.pyplot as plt "
   ]
  },
  {
   "cell_type": "markdown",
   "metadata": {},
   "source": [
    "Labels"
   ]
  },
  {
   "cell_type": "code",
   "execution_count": 2,
   "metadata": {},
   "outputs": [],
   "source": [
    "labels = ['Macroeconomía','Regulaciones','Innovación','Alianza','Sostenibilidad','Descartable']"
   ]
  },
  {
   "cell_type": "code",
   "execution_count": 3,
   "metadata": {},
   "outputs": [],
   "source": [
    "df = pd.read_csv('AnnotatedFewShotData.csv')"
   ]
  },
  {
   "cell_type": "code",
   "execution_count": 4,
   "metadata": {},
   "outputs": [
    {
     "data": {
      "text/html": [
       "<div>\n",
       "<style scoped>\n",
       "    .dataframe tbody tr th:only-of-type {\n",
       "        vertical-align: middle;\n",
       "    }\n",
       "\n",
       "    .dataframe tbody tr th {\n",
       "        vertical-align: top;\n",
       "    }\n",
       "\n",
       "    .dataframe thead th {\n",
       "        text-align: right;\n",
       "    }\n",
       "</style>\n",
       "<table border=\"1\" class=\"dataframe\">\n",
       "  <thead>\n",
       "    <tr style=\"text-align: right;\">\n",
       "      <th></th>\n",
       "      <th>Title</th>\n",
       "      <th>Text</th>\n",
       "      <th>Label</th>\n",
       "    </tr>\n",
       "  </thead>\n",
       "  <tbody>\n",
       "    <tr>\n",
       "      <th>0</th>\n",
       "      <td>Precio dolar hoy: la cotizacion de la divisa a...</td>\n",
       "      <td>Este martes, 2 de agosto, el dolar alcanzo un ...</td>\n",
       "      <td>Macroeconomía</td>\n",
       "    </tr>\n",
       "    <tr>\n",
       "      <th>1</th>\n",
       "      <td>Es cierto: El presidente Gustavo Petro quiere ...</td>\n",
       "      <td>No hay nada mas permanente que lo temporal y a...</td>\n",
       "      <td>Regulaciones</td>\n",
       "    </tr>\n",
       "    <tr>\n",
       "      <th>2</th>\n",
       "      <td>Gustavo Petro: ?Que dice el informe final de s...</td>\n",
       "      <td>El equipo de empalme del gobierno del presiden...</td>\n",
       "      <td>Regulaciones</td>\n",
       "    </tr>\n",
       "    <tr>\n",
       "      <th>3</th>\n",
       "      <td>Cuanto cuesta y como enviar dinero de Estados ...</td>\n",
       "      <td>?Buscas opciones para el envio de dinero de Es...</td>\n",
       "      <td>Regulaciones</td>\n",
       "    </tr>\n",
       "    <tr>\n",
       "      <th>4</th>\n",
       "      <td>?Cuanto cuesta hacer mercado en Venezuela? Est...</td>\n",
       "      <td>El precio de los alimentos sube y baja con fre...</td>\n",
       "      <td>Macroeconomía</td>\n",
       "    </tr>\n",
       "  </tbody>\n",
       "</table>\n",
       "</div>"
      ],
      "text/plain": [
       "                                               Title  \\\n",
       "0  Precio dolar hoy: la cotizacion de la divisa a...   \n",
       "1  Es cierto: El presidente Gustavo Petro quiere ...   \n",
       "2  Gustavo Petro: ?Que dice el informe final de s...   \n",
       "3  Cuanto cuesta y como enviar dinero de Estados ...   \n",
       "4  ?Cuanto cuesta hacer mercado en Venezuela? Est...   \n",
       "\n",
       "                                                Text          Label  \n",
       "0  Este martes, 2 de agosto, el dolar alcanzo un ...  Macroeconomía  \n",
       "1  No hay nada mas permanente que lo temporal y a...   Regulaciones  \n",
       "2  El equipo de empalme del gobierno del presiden...   Regulaciones  \n",
       "3  ?Buscas opciones para el envio de dinero de Es...   Regulaciones  \n",
       "4  El precio de los alimentos sube y baja con fre...  Macroeconomía  "
      ]
     },
     "execution_count": 4,
     "metadata": {},
     "output_type": "execute_result"
    }
   ],
   "source": [
    "df.head()"
   ]
  },
  {
   "cell_type": "code",
   "execution_count": 41,
   "metadata": {},
   "outputs": [],
   "source": [
    "df['Merged'] = df['Title'] +\". \"+df['Text']"
   ]
  },
  {
   "cell_type": "code",
   "execution_count": 44,
   "metadata": {},
   "outputs": [],
   "source": [
    "df=df.drop(['Title','Text'],axis=1)"
   ]
  },
  {
   "cell_type": "markdown",
   "metadata": {},
   "source": [
    "For each label, we build all the combinations of anchor-positive-negative"
   ]
  },
  {
   "cell_type": "code",
   "execution_count": 51,
   "metadata": {},
   "outputs": [],
   "source": [
    "pairs = []\n",
    "\n",
    "\n",
    "for label in labels: \n",
    "    label_text = df[df['Label'] == label]\n",
    "    negative_text = df[df['Label'] != label].to_dict()\n",
    "\n",
    "\n",
    "    for key_anchor,value_anchor in label_text['Merged'].items(): \n",
    "        for key_positive,value_positive in label_text['Merged'].items():\n",
    "            if key_positive>key_anchor:\n",
    "                for key_negative,value_negative in negative_text['Merged'].items(): \n",
    "                    pairs.append(\n",
    "                        {\n",
    "                            'anchor': value_anchor,\n",
    "                            'positive': value_positive,\n",
    "                            'negative': value_negative,\n",
    "                            'label': label\n",
    "                        }\n",
    "                    )"
   ]
  },
  {
   "cell_type": "code",
   "execution_count": 52,
   "metadata": {},
   "outputs": [],
   "source": [
    "pickle_obj = {'pairs': pairs, 'description': 'Each pair consists of anchor - positive example - negative example'}"
   ]
  },
  {
   "cell_type": "code",
   "execution_count": 53,
   "metadata": {},
   "outputs": [],
   "source": [
    "import pickle"
   ]
  },
  {
   "cell_type": "code",
   "execution_count": 55,
   "metadata": {},
   "outputs": [],
   "source": [
    "with open('few_shot_pairs.pickle', 'wb') as handle:\n",
    "    pickle.dump(pickle_obj, handle, protocol=pickle.HIGHEST_PROTOCOL)"
   ]
  },
  {
   "cell_type": "code",
   "execution_count": null,
   "metadata": {},
   "outputs": [],
   "source": []
  }
 ],
 "metadata": {
  "kernelspec": {
   "display_name": "Python 3.10.5 64-bit",
   "language": "python",
   "name": "python3"
  },
  "language_info": {
   "codemirror_mode": {
    "name": "ipython",
    "version": 3
   },
   "file_extension": ".py",
   "mimetype": "text/x-python",
   "name": "python",
   "nbconvert_exporter": "python",
   "pygments_lexer": "ipython3",
   "version": "3.10.5"
  },
  "orig_nbformat": 4,
  "vscode": {
   "interpreter": {
    "hash": "9418e089f3a13507e177ca7d4ef09fe324d881fdb441e6e02dcbbc692367eeae"
   }
  }
 },
 "nbformat": 4,
 "nbformat_minor": 2
}
